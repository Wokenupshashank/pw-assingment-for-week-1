{
 "cells": [
  {
   "cell_type": "code",
   "execution_count": 1,
   "id": "381ccd31-c8a0-4595-a310-e84354c33a81",
   "metadata": {},
   "outputs": [
    {
     "name": "stdout",
     "output_type": "stream",
     "text": [
      "<class 'str'>\n",
      "<class 'list'>\n",
      "<class 'float'>\n",
      "<class 'tuple'>\n"
     ]
    }
   ],
   "source": [
    "#QUESTION 1\n",
    "#i>\n",
    "s=\"shashank\"\n",
    "#ii>\n",
    "l=[1,2,3,4,\"shashank\"]\n",
    "#iii>\n",
    "f=10.5\n",
    "#iv>\n",
    "t=(2,3,4,)\n",
    "print(type(s))\n",
    "print(type(l))\n",
    "print(type(f))\n",
    "print(type(t))"
   ]
  },
  {
   "cell_type": "code",
   "execution_count": 2,
   "id": "a9d26381-8b4f-46e4-bfd2-5ba37940e622",
   "metadata": {},
   "outputs": [
    {
     "name": "stdout",
     "output_type": "stream",
     "text": [
      "<class 'str'>\n",
      "<class 'str'>\n",
      "<class 'list'>\n",
      "<class 'int'>\n"
     ]
    }
   ],
   "source": [
    "#QUESTION 2\n",
    "#1> the var1 is the string type\n",
    "var1=''\n",
    "print(type(var1))\n",
    "\n",
    "\n",
    "#2> the var2 is the string type\n",
    "var2='[DS,ML.PYTHON]'\n",
    "print(type(var2))\n",
    "\n",
    "\n",
    "#3> the var3 is the list type\n",
    "var3=['DS','ML','PYTHON']\n",
    "print(type(var3))\n",
    "\n",
    "\n",
    "#1> the var4 is the int type\n",
    "var4=1\n",
    "print(type(var4))\n"
   ]
  },
  {
   "cell_type": "code",
   "execution_count": 3,
   "id": "7838a5d9-962b-4481-9ea1-d8a737222bca",
   "metadata": {},
   "outputs": [
    {
     "name": "stdout",
     "output_type": "stream",
     "text": [
      "2.0\n",
      "1\n",
      "3\n",
      "125\n"
     ]
    }
   ],
   "source": [
    "#QUESTION 3\n",
    "\n",
    "#1.  \"/\" is arithmetic operator used to do division operation on the operands\n",
    "a=10\n",
    "b=5\n",
    "print(10/5)\n",
    "\n",
    "\n",
    "#2. \"%\" it is a modulus operator which is arithmetic operator whiich produce remainder \n",
    "\n",
    "c=3\n",
    "print(a%c)\n",
    "\n",
    "#3. \"//\" it is floor division operator , it will produce division result without any remainder\n",
    "\n",
    "print(a//c)\n",
    "\n",
    "\n",
    "#4. \"**\" it is used to calculated power of a number \n",
    "#for eg : x**y is equal to x raise to the power y\n",
    "\n",
    "print(b**c)"
   ]
  },
  {
   "cell_type": "code",
   "execution_count": 4,
   "id": "79249b80-19e2-45c1-87cb-51d11077eea2",
   "metadata": {},
   "outputs": [
    {
     "name": "stdout",
     "output_type": "stream",
     "text": [
      "1 of type  <class 'int'>\n",
      "2 of type  <class 'int'>\n",
      "3 of type  <class 'int'>\n",
      "30 of type  <class 'int'>\n",
      "4 of type  <class 'int'>\n",
      "40.4 of type  <class 'float'>\n",
      "True of type  <class 'bool'>\n",
      "(3+9j) of type  <class 'complex'>\n",
      "shashank of type  <class 'str'>\n",
      "s of type  <class 'str'>\n"
     ]
    }
   ],
   "source": [
    "#Q4> \n",
    "L=[1,2,3,30,4,40.4,True,3+9j,\"shashank\",'s']\n",
    "for i in L:\n",
    "    print(i,\"of type \",type(i))"
   ]
  },
  {
   "cell_type": "code",
   "execution_count": 24,
   "id": "6ce53633-e73b-478f-998b-5b714dee8944",
   "metadata": {},
   "outputs": [
    {
     "name": "stdin",
     "output_type": "stream",
     "text": [
      "enter the value of a 10\n",
      "enter the value of b 2\n"
     ]
    },
    {
     "name": "stdout",
     "output_type": "stream",
     "text": [
      "10 is purely divided by  2 by 5 times\n"
     ]
    }
   ],
   "source": [
    "#Q5.\n",
    "\n",
    "a=int(input(\"enter the value of a\"))\n",
    "b=int(input(\"enter the value of b\"))\n",
    "if(a%b==0):\n",
    "    print(a,\"is purely divided by \",b,\"by\",a//b,\"times\")\n",
    "else:\n",
    "    print(a,\"is not purely divided\",b)\n",
    "    "
   ]
  },
  {
   "cell_type": "code",
   "execution_count": 19,
   "id": "d3ec95fa-f552-4a11-bca1-835511489b38",
   "metadata": {},
   "outputs": [
    {
     "name": "stdout",
     "output_type": "stream",
     "text": [
      "2 is not divisible by 3\n",
      "3 is divisible by 3\n",
      "4 is not divisible by 3\n",
      "5 is not divisible by 3\n",
      "67 is not divisible by 3\n",
      "88 is not divisible by 3\n",
      "99 is divisible by 3\n",
      "78 is divisible by 3\n",
      "60 is divisible by 3\n",
      "100 is not divisible by 3\n",
      "20 is not divisible by 3\n",
      "30 is divisible by 3\n",
      "48 is divisible by 3\n",
      "98 is not divisible by 3\n",
      "90 is divisible by 3\n",
      "19902 is divisible by 3\n",
      "92 is not divisible by 3\n",
      "100 is not divisible by 3\n",
      "12 is divisible by 3\n",
      "13 is not divisible by 3\n",
      "30 is divisible by 3\n",
      "60 is divisible by 3\n",
      "90 is divisible by 3\n",
      "45 is divisible by 3\n",
      "900 is divisible by 3\n"
     ]
    }
   ],
   "source": [
    "#Q6.\n",
    "l=[2,3,4,5,67,88,99,78,60,100,20,30,48,98,90,19902,92,100,12,13,30,60,90,45,900]\n",
    "\n",
    "for i in l:\n",
    "    if(i%3==0):\n",
    "        print(i,\"is divisible by 3\")\n",
    "    else:\n",
    "        print(i,\"is not divisible by 3\")\n",
    "\n",
    "    \n",
    "\n",
    "    \n",
    "    "
   ]
  },
  {
   "cell_type": "code",
   "execution_count": 25,
   "id": "d2b18da8-aeb2-486a-abe9-8650a8573ffc",
   "metadata": {},
   "outputs": [
    {
     "name": "stdout",
     "output_type": "stream",
     "text": [
      "45\n",
      "new value\n"
     ]
    }
   ],
   "source": [
    "#Mutable data types is a data type which values can be changed.eg:>list\n",
    "#Immuttable data types is a data type which values cannot be changed.eg:>string\n",
    "\n",
    "#mutuables examples\n",
    "l=[1,10,3,45,67,9]\n",
    "print(l[3])\n",
    "#changing values\n",
    "l[3]=\"new value\"\n",
    "print(l[3])"
   ]
  },
  {
   "cell_type": "code",
   "execution_count": null,
   "id": "ccd92b3e-f852-4576-bf31-25f56e044507",
   "metadata": {},
   "outputs": [],
   "source": []
  }
 ],
 "metadata": {
  "kernelspec": {
   "display_name": "Python 3 (ipykernel)",
   "language": "python",
   "name": "python3"
  },
  "language_info": {
   "codemirror_mode": {
    "name": "ipython",
    "version": 3
   },
   "file_extension": ".py",
   "mimetype": "text/x-python",
   "name": "python",
   "nbconvert_exporter": "python",
   "pygments_lexer": "ipython3",
   "version": "3.10.8"
  }
 },
 "nbformat": 4,
 "nbformat_minor": 5
}
